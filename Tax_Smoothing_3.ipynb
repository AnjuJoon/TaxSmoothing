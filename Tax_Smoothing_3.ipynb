{
 "cells": [
  {
   "cell_type": "markdown",
   "metadata": {
    "collapsed": true
   },
   "source": [
    "# How to pay for a war: part 3\n",
    "\n",
    "### Another application of Markov jump linear quadratic dynamic programming\n",
    "\n",
    "#### By [Sebastian Graves](https://github.com/sebgraves) and [Thomas J. Sargent](http://www.tomsargent.com/) \n",
    "\n",
    "This notebook is another [sequel to an earlier notebook](https://github.com/QuantEcon/TaxSmoothing/blob/master/Tax_Smoothing_1.ipynb).\n",
    "\n",
    "As earlier, we use Markov jump linear quadratic (LQ) dynamic programming problems to implement some suggestions by Barro (1999, 2003) for extending his classic  1979 model of tax smoothing.\n",
    "\n",
    "Barro's 1979  model is about a government that borrows and lends in order to help it minimize an intertemporal measure of  distortions caused by taxes. Technically, Barro's 1979 model looks a lot like a consumption smoothing model.  Our generalizations of his 1979 model will also look like a souped up consumption smoothing model.\n",
    "\n",
    "In this notebook, we try to capture the tax-smoothing problem of a government that faces\n",
    "**roll-over risk**\n",
    "\n",
    "###  Roll-over risk\n",
    "\n",
    "Let $T_t$ denote tax collections, $\\beta$ a discount factor, $b_{t,t+1}$ time $t+1$ goods that the government promises to pay at $t$, $G_t$ government purchases, $p^t_{t+1}$ the number of time $t$ goods received per time $t+1$ goods promised. The stochastic  process of government expenditures is exogenous. The government's problem is to choose a plan for borrowing  and tax collections $\\{b_{t+1}, T_t\\}_{t=0}^\\infty$ to minimize\n",
    "\n",
    "$$ E_0 \\sum_{t=0}^\\infty \\beta^t T_t^2  $$\n",
    "subject to the constraints\n",
    "$$ T_t + p^t_{t+1} b_{t,t+1} = G_t + b_{t-1,t} $$\n",
    " $$ G_t = U_{g,t} z_t $$\n",
    " $$ z_{t+1} = A_{22,t} z_t + C_{2,t} w_{t+1} $$\n",
    "\n",
    "where $w_{t+1} \\sim {\\cal N}(0,I)$. The variables $T_t, b_{t, t+1}$ are *control* variables chosen at $t$,\n",
    "while $b_{t-1,t}$ is an endogenous state variable inherited from the past at time $t$ and $p^t_{t+1}$ is an exogenous state variable at time $t$. This is the same set-up as used [in this notebook](http://nbviewer.jupyter.org/github/QuantEcon/TaxSmoothing/blob/master/Tax_Smoothing_1.ipynb). We will consider a situation in which the government faces \"roll-over risk\". Specifically, we shut down the government's ability to borrow in one of the Markov states. \n",
    "\n",
    "##### A dead end\n",
    "\n",
    "A first thought for how to implement this might be to allow $p^t_{t+1}$ to vary over time with:\n",
    "\n",
    "$$ p^t_{t+1} = \\beta $$\n",
    "\n",
    "in Markov state 1 and\n",
    "\n",
    "$$ p^t_{t+1} = 0 $$ in Markov state 2. Consequently, in the second Markov state the government is unable to borrow, and the budget constraint becomes $T_t = G_t + b_{t-1,t}$. \n",
    "\n",
    "However, if this is the only adjustment we make in our linear-quadratic model, the government will not set $b_{t,t+1} = 0$, which is the outcome we want to express ``roll-over'' risk in period $t$. \n",
    "\n",
    "Instead, the government would have  an incentive to set $b_{t,t+1}$ to a large negative number in state 2 -- it would accumulate large amounts of *assets* to bring into period $t+1$ because that is cheap.  (Our Riccati equations will discover this for us!)\n",
    " \n",
    "Thus, we must represent \"roll-over risk\" some other way.\n",
    "\n",
    "##### A better representation of roll-over risk\n",
    "\n",
    "To force the government to set $b_{t,t+1} = 0$, we can instead  extend the model to have four Markov states:\n",
    "\n",
    "1. Good today, good yesterday\n",
    "2. Good today, bad yesterday\n",
    "3. Bad today, good yesterday\n",
    "4. Bad today, bad yesterday\n",
    "\n",
    "where good is a state in which effectively the government can issue debt and bad is a state in which effectively the government can't issue debt.\n",
    "\n",
    "We'll explain what ``effectively'' means shortly\n",
    "\n",
    "We now set\n",
    "\n",
    "$$ p^t_{t+1} = \\beta $$ \n",
    "\n",
    "in all states. \n",
    "\n",
    "In addition -- and this is important because it defines what we mean by ``effectively'' -- we put a large penalty on the $b_{t-1,t}$ element of the state vector in states 2 and 4. This will prevent the government from wishing to issue any debt in states 3 or 4 because it would experience a large penalty from doing so in the next period. \n",
    "\n",
    "The transition matrix for this formulation is:\n",
    "\n",
    "$$ \\Pi = \\begin{bmatrix} 0.95 & 0 & 0.05 & 0 \\\\\n",
    "                         0.95 & 0 & 0.05 & 0 \\\\\n",
    "                         0 & 0.9 & 0 & 0.1 \\\\\n",
    "                         0 & 0.9 & 0 & 0.1 \\\\\n",
    "\\end{bmatrix} $$\n",
    "\n",
    "This transition matrix ensures that the Markov state cannot move, for example, from state 3 to state 1. Because state 3 is \"bad today\", the next period cannot have \"good yesterday\"."
   ]
  },
  {
   "cell_type": "code",
   "execution_count": 4,
   "metadata": {
    "collapsed": false
   },
   "outputs": [
    {
     "ename": "ImportError",
     "evalue": "No module named 'lq_markov'",
     "output_type": "error",
     "traceback": [
      "\u001b[0;31m---------------------------------------------------------------------------\u001b[0m",
      "\u001b[0;31mImportError\u001b[0m                               Traceback (most recent call last)",
      "\u001b[0;32m<ipython-input-4-9720139a0981>\u001b[0m in \u001b[0;36m<module>\u001b[0;34m()\u001b[0m\n\u001b[1;32m      2\u001b[0m \u001b[0;32mimport\u001b[0m \u001b[0mnumpy\u001b[0m \u001b[0;32mas\u001b[0m \u001b[0mnp\u001b[0m\u001b[0;34m\u001b[0m\u001b[0m\n\u001b[1;32m      3\u001b[0m \u001b[0;32mimport\u001b[0m \u001b[0mmatplotlib\u001b[0m\u001b[0;34m.\u001b[0m\u001b[0mpyplot\u001b[0m \u001b[0;32mas\u001b[0m \u001b[0mplt\u001b[0m\u001b[0;34m\u001b[0m\u001b[0m\n\u001b[0;32m----> 4\u001b[0;31m \u001b[0;32mfrom\u001b[0m \u001b[0mlq_markov\u001b[0m \u001b[0;32mimport\u001b[0m \u001b[0;34m*\u001b[0m\u001b[0;34m\u001b[0m\u001b[0m\n\u001b[0m\u001b[1;32m      5\u001b[0m \u001b[0mget_ipython\u001b[0m\u001b[0;34m(\u001b[0m\u001b[0;34m)\u001b[0m\u001b[0;34m.\u001b[0m\u001b[0mmagic\u001b[0m\u001b[0;34m(\u001b[0m\u001b[0;34m'matplotlib inline'\u001b[0m\u001b[0;34m)\u001b[0m\u001b[0;34m\u001b[0m\u001b[0m\n",
      "\u001b[0;31mImportError\u001b[0m: No module named 'lq_markov'"
     ]
    }
   ],
   "source": [
    "import quantecon as qe\n",
    "import numpy as np\n",
    "import matplotlib.pyplot as plt\n",
    "from lq_markov import *\n",
    "%matplotlib inline"
   ]
  },
  {
   "cell_type": "code",
   "execution_count": null,
   "metadata": {
    "collapsed": false
   },
   "outputs": [],
   "source": [
    "# Model parameters \n",
    "beta, Gbar, rho, sigma = 0.95, 5, 0.8, 1\n",
    "\n",
    "# Basic model matrices\n",
    "A22 = np.array([[1,0],[Gbar, rho],])\n",
    "C2 = np.array([[0], [sigma]])\n",
    "Ug = np.array([[0,1]])\n",
    "\n",
    "# LQ framework matrices\n",
    "A_t = np.zeros((1,3))\n",
    "A_b = np.hstack((np.zeros((2,1)),A22))\n",
    "A = np.vstack((A_t,A_b))\n",
    "\n",
    "B = np.zeros((3,1))\n",
    "B[0,0] = 1\n",
    "\n",
    "C = np.vstack((np.zeros((1,1)),C2))\n",
    "\n",
    "Sg = np.hstack((np.zeros((1,1)),Ug))\n",
    "S1 = np.zeros((1,3))\n",
    "S1[0,0] = 1\n",
    "S = S1 + Sg\n",
    "\n",
    "R = np.dot(S.T,S)\n",
    "\n",
    "# Large penalty on debt in R2 to prevent borrowing in bad state\n",
    "R1 = np.copy(R)\n",
    "R2 = np.copy(R)\n",
    "R1[0,0] = R[0,0] + 1e-9\n",
    "R2[0,0] = R[0,0] + 1e12\n",
    "\n",
    "M = np.array([[-beta]])\n",
    "Q = np.dot(M.T,M)\n",
    "W = np.dot(M.T,S)\n",
    "\n",
    "# Create namedtuple to keep the R,Q,A,B,C,W matrices for each state of the world\n",
    "world = namedtuple('world', ['A', 'B', 'C', 'R', 'Q', 'W'])\n",
    "\n",
    "Pi = np.array([[0.95,0,0.05,0],[0.95,0,0.05,0],[0,0.9,0,0.1],[0,0.9,0,0.1]])\n",
    "\n",
    "#Sets up the four states of the world\n",
    "v1 = world(A=A,B=B,C=C,R=R1,Q=Q,W=W)\n",
    "v2 = world(A=A,B=B,C=C,R=R2,Q=Q,W=W)\n",
    "v3 = world(A=A,B=B,C=C,R=R1,Q=Q,W=W)\n",
    "v4 = world(A=A,B=B,C=C,R=R2,Q=Q,W=W)\n",
    "\n",
    "MJLQBarro = LQ_Markov(beta,Pi,v1,v2,v3,v4)"
   ]
  },
  {
   "cell_type": "markdown",
   "metadata": {},
   "source": [
    "This model is simulated below, using the same process for $G_t$ as in the previous notebook. When $ p^t_{t+1} = \\beta $ government debt fluctuates around zero. The spikes in the series for taxation show periods when the government is unable to access financial markets: positive spikes occur when debt is positive, and the government must raise taxes in the current period. \n",
    "\n",
    "Negative spikes occur when the government has positive asset holdings. An inability to use financial markets in the next period means that the government uses those assets to lower taxation toay."
   ]
  },
  {
   "cell_type": "code",
   "execution_count": null,
   "metadata": {
    "collapsed": false
   },
   "outputs": [],
   "source": [
    "x0 = np.array([[0,1,25]])\n",
    "T = 300\n",
    "x,u,w,state = MJLQBarro.compute_sequence(x0,ts_length=T)\n",
    "\n",
    "# Calculate taxation each period from the budget constraint and the Markov state\n",
    "tax = np.zeros([T,1])\n",
    "for i in range(T):\n",
    "    tax[i,:] = S.dot(x[:,i]) + M.dot(u[:,i])\n",
    "\n",
    "#Plot of debt issuance and taxation\n",
    "plt.figure(figsize=(16,4))\n",
    "plt.subplot(121)\n",
    "plt.plot(x[0,:])\n",
    "plt.title('One-period debt issuance')\n",
    "plt.xlabel('Time')\n",
    "plt.subplot(122)\n",
    "plt.plot(tax)\n",
    "plt.title('Taxation')\n",
    "plt.xlabel('Time')"
   ]
  },
  {
   "cell_type": "markdown",
   "metadata": {},
   "source": [
    "We can adjust the model so that, rather than having debt fluctuate around zero, the government is  a debtor in every period we allow it to borrow. To accomplish this, we simply raise $ p^t_{t+1}$ to  $\\beta + 0.02 = 0.97 $. "
   ]
  },
  {
   "cell_type": "code",
   "execution_count": null,
   "metadata": {
    "collapsed": false
   },
   "outputs": [],
   "source": [
    "M = np.array([[-beta-0.02]])\n",
    "\n",
    "Q = np.dot(M.T,M)\n",
    "W = np.dot(M.T,S)\n",
    "\n",
    "#Sets up the four states of the world\n",
    "v1 = world(A=A,B=B,C=C,R=R1,Q=Q,W=W)\n",
    "v2 = world(A=A,B=B,C=C,R=R2,Q=Q,W=W)\n",
    "v3 = world(A=A,B=B,C=C,R=R1,Q=Q,W=W)\n",
    "v4 = world(A=A,B=B,C=C,R=R2,Q=Q,W=W)\n",
    "\n",
    "MJLQBarro2 = LQ_Markov(beta,Pi,v1,v2,v3,v4)\n",
    "x,u,w,state = MJLQBarro2.compute_sequence(x0,ts_length=T)\n",
    "\n",
    "# Calculate taxation each period from the budget constraint and the Markov state\n",
    "tax = np.zeros([T,1])\n",
    "for i in range(T):\n",
    "    tax[i,:] = S.dot(x[:,i]) + M.dot(u[:,i])\n",
    "\n",
    "#Plot of debt issuance and taxation\n",
    "plt.figure(figsize=(16,4))\n",
    "plt.subplot(121)\n",
    "plt.plot(x[0,:])\n",
    "plt.title('One-period debt issuance')\n",
    "plt.xlabel('Time')\n",
    "plt.subplot(122)\n",
    "plt.plot(tax)\n",
    "plt.title('Taxation')\n",
    "plt.xlabel('Time')"
   ]
  },
  {
   "cell_type": "markdown",
   "metadata": {},
   "source": [
    "With the lower interest rate, the government has an incentive to increase debt over time. However, with \"roll-over risk\", debt is periodically reset to zero, and taxes spike up. Consequently, the government is wary of letting debt get too high, due to the high cost of a \"sudden stop\"."
   ]
  },
  {
   "cell_type": "code",
   "execution_count": null,
   "metadata": {
    "collapsed": true
   },
   "outputs": [],
   "source": []
  }
 ],
 "metadata": {
  "anaconda-cloud": {},
  "kernelspec": {
   "display_name": "Python [default]",
   "language": "python",
   "name": "python3"
  },
  "language_info": {
   "codemirror_mode": {
    "name": "ipython",
    "version": 3
   },
   "file_extension": ".py",
   "mimetype": "text/x-python",
   "name": "python",
   "nbconvert_exporter": "python",
   "pygments_lexer": "ipython3",
   "version": "3.5.2"
  }
 },
 "nbformat": 4,
 "nbformat_minor": 0
}
